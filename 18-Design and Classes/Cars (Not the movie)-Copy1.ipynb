{
 "cells": [
  {
   "cell_type": "code",
   "execution_count": 1,
   "metadata": {},
   "outputs": [],
   "source": [
    "import pandas as pd\n",
    "import build_road\n",
    "import sys\n",
    "from Road import Road"
   ]
  },
  {
   "cell_type": "code",
   "execution_count": 2,
   "metadata": {},
   "outputs": [],
   "source": [
    "class Car(object):\n",
    "    \n",
    "    \"\"\"\n",
    "    Base class for a car\n",
    "    \"\"\"\n",
    "    def __init__(self, color,location,direction):\n",
    "        if len(location) < 2 or len(location) > 2:\n",
    "            print('location is the x,y coordinates of the car')\n",
    "        else:    \n",
    "            self.color = color\n",
    "            self.location = location\n",
    "            self.x = location[0] \n",
    "            self.y = location[1]\n",
    "            self.direction = direction"
   ]
  },
  {
   "cell_type": "code",
   "execution_count": 41,
   "metadata": {},
   "outputs": [],
   "source": [
    "def go(self,units,movement):\n",
    "        \"\"\"\n",
    "        function to move the car the given distance in the given direction\n",
    "        \"\"\"\n",
    "        if movement == 'forward':\n",
    "        \n",
    "            if self.direction == 'N':\n",
    "                self.y = self.y + units\n",
    "            elif self.direction == 'S':\n",
    "                self.y = self.y - units\n",
    "            elif self.direction == 'E':\n",
    "                self.x = self.x + units\n",
    "            elif self.direction == 'W':\n",
    "                self.x = self.x - units\n",
    "            else:\n",
    "                print('Direction options are N, S, E, and W')\n",
    "            self.location = [self.x,self.y]   \n",
    "        elif movement == 'backward':\n",
    "            if self.direction == 'N':\n",
    "                self.y = self.y - units\n",
    "            elif self.direction == 'S':\n",
    "                self.y = self.y + units\n",
    "            elif self.direction == 'E':\n",
    "                self.x = self.x - units\n",
    "            elif self.direction == 'W':\n",
    "                self.x = self.x + units\n",
    "            else:\n",
    "                print('Direction options are N, S, E, and W')\n",
    "            self.location = [self.x,self.y]   \n",
    "  \n",
    "        else:\n",
    "            print('Possible movements are forward and backward')"
   ]
  },
  {
   "cell_type": "code",
   "execution_count": 4,
   "metadata": {},
   "outputs": [],
   "source": [
    " def turn_right(self):\n",
    "        if self.direction == 'N':\n",
    "            self.direction = 'E'\n",
    "        elif self.direction == 'S':\n",
    "            self.direction = 'W'\n",
    "        elif self.direction == 'E':\n",
    "            self.direction = 'S'\n",
    "        elif self.direction == 'W':\n",
    "            self.direction = 'N'\n",
    "        else:\n",
    "            print('WRONG WAY')"
   ]
  },
  {
   "cell_type": "code",
   "execution_count": 5,
   "metadata": {},
   "outputs": [],
   "source": [
    " def turn_left(self):\n",
    "        if self.direction == 'N':\n",
    "            self.direction = 'W'\n",
    "        elif self.direction == 'S':\n",
    "            self.direction = 'E'\n",
    "        elif self.direction == 'E':\n",
    "            self.direction = 'N'\n",
    "        elif self.direction == 'W':\n",
    "            self.direction = 'S'\n",
    "        else:\n",
    "            print('WRONG WAY')"
   ]
  },
  {
   "cell_type": "code",
   "execution_count": 6,
   "metadata": {},
   "outputs": [],
   "source": [
    "car = Car(color = 'yellow',location = [0,0], direction = 'N')"
   ]
  },
  {
   "cell_type": "code",
   "execution_count": 8,
   "metadata": {},
   "outputs": [
    {
     "data": {
      "text/plain": [
       "'N'"
      ]
     },
     "execution_count": 8,
     "metadata": {},
     "output_type": "execute_result"
    }
   ],
   "source": [
    "car.direction"
   ]
  },
  {
   "cell_type": "code",
   "execution_count": 9,
   "metadata": {},
   "outputs": [
    {
     "data": {
      "text/plain": [
       "'yellow'"
      ]
     },
     "execution_count": 9,
     "metadata": {},
     "output_type": "execute_result"
    }
   ],
   "source": [
    "car.color"
   ]
  },
  {
   "cell_type": "code",
   "execution_count": 13,
   "metadata": {},
   "outputs": [
    {
     "ename": "AttributeError",
     "evalue": "'Car' object has no attribute 'turn_left'",
     "output_type": "error",
     "traceback": [
      "\u001b[1;31m---------------------------------------------------------------------------\u001b[0m",
      "\u001b[1;31mAttributeError\u001b[0m                            Traceback (most recent call last)",
      "\u001b[1;32m<ipython-input-13-7c3e9d38f654>\u001b[0m in \u001b[0;36m<module>\u001b[1;34m()\u001b[0m\n\u001b[1;32m----> 1\u001b[1;33m \u001b[0mcar\u001b[0m\u001b[1;33m.\u001b[0m\u001b[0mturn_left\u001b[0m\u001b[1;33m\u001b[0m\u001b[0m\n\u001b[0m",
      "\u001b[1;31mAttributeError\u001b[0m: 'Car' object has no attribute 'turn_left'"
     ]
    }
   ],
   "source": [
    "car.turn_left"
   ]
  },
  {
   "cell_type": "code",
   "execution_count": 15,
   "metadata": {},
   "outputs": [
    {
     "name": "stdout",
     "output_type": "stream",
     "text": [
      "N\n"
     ]
    }
   ],
   "source": [
    "print(car.direction)"
   ]
  },
  {
   "cell_type": "code",
   "execution_count": 16,
   "metadata": {},
   "outputs": [
    {
     "name": "stdout",
     "output_type": "stream",
     "text": [
      "N\n"
     ]
    }
   ],
   "source": [
    "print(car.direction)\n",
    "turn_right(car)"
   ]
  },
  {
   "cell_type": "code",
   "execution_count": 50,
   "metadata": {},
   "outputs": [],
   "source": [
    "yellowcar = Car(color = 'yellow',location = [0,0], direction = 'N')"
   ]
  },
  {
   "cell_type": "code",
   "execution_count": 18,
   "metadata": {},
   "outputs": [
    {
     "name": "stdout",
     "output_type": "stream",
     "text": [
      "N\n"
     ]
    }
   ],
   "source": [
    "print(LightningMcQueen.direction)"
   ]
  },
  {
   "cell_type": "code",
   "execution_count": 52,
   "metadata": {},
   "outputs": [
    {
     "name": "stdout",
     "output_type": "stream",
     "text": [
      "yellow\n",
      "[-1, 2]\n",
      "W\n"
     ]
    }
   ],
   "source": [
    "print(yellowcar.color)\n",
    "print(yellowcar.location)\n",
    "print(yellowcar.direction)"
   ]
  },
  {
   "cell_type": "code",
   "execution_count": 57,
   "metadata": {},
   "outputs": [],
   "source": [
    "greencar = Car(color = 'Green',location = [0,0], direction = 'N')"
   ]
  },
  {
   "cell_type": "code",
   "execution_count": 23,
   "metadata": {},
   "outputs": [],
   "source": [
    "turn_left(greencar)"
   ]
  },
  {
   "cell_type": "code",
   "execution_count": 26,
   "metadata": {},
   "outputs": [
    {
     "name": "stdout",
     "output_type": "stream",
     "text": [
      "N\n"
     ]
    }
   ],
   "source": [
    "print(greencar.direction)"
   ]
  },
  {
   "cell_type": "code",
   "execution_count": 51,
   "metadata": {},
   "outputs": [],
   "source": [
    "go(yellowcar,2,'forward')\n",
    "turn_left(yellowcar)\n",
    "go(yellowcar,1,'forward')"
   ]
  },
  {
   "cell_type": "code",
   "execution_count": 55,
   "metadata": {},
   "outputs": [
    {
     "name": "stdout",
     "output_type": "stream",
     "text": [
      "yellow\n",
      "[-1, 2]\n",
      "W\n"
     ]
    }
   ],
   "source": [
    "print(yellowcar.color)\n",
    "print(yellowcar.location)\n",
    "print(yellowcar.direction)"
   ]
  },
  {
   "cell_type": "code",
   "execution_count": 59,
   "metadata": {},
   "outputs": [],
   "source": [
    "turn_left(greencar)\n",
    "go(greencar,1,'forward')\n",
    "turn_right(greencar)\n",
    "go(greencar,2,'forward')"
   ]
  },
  {
   "cell_type": "code",
   "execution_count": 60,
   "metadata": {},
   "outputs": [
    {
     "name": "stdout",
     "output_type": "stream",
     "text": [
      "Green\n",
      "[-1, 2]\n",
      "N\n"
     ]
    }
   ],
   "source": [
    "print(greencar.color)\n",
    "print(greencar.location)\n",
    "print(greencar.direction)"
   ]
  },
  {
   "cell_type": "code",
   "execution_count": null,
   "metadata": {},
   "outputs": [],
   "source": []
  }
 ],
 "metadata": {
  "kernelspec": {
   "display_name": "Python 3",
   "language": "python",
   "name": "python3"
  },
  "language_info": {
   "codemirror_mode": {
    "name": "ipython",
    "version": 3
   },
   "file_extension": ".py",
   "mimetype": "text/x-python",
   "name": "python",
   "nbconvert_exporter": "python",
   "pygments_lexer": "ipython3",
   "version": "3.6.4"
  }
 },
 "nbformat": 4,
 "nbformat_minor": 2
}
